{
 "cells": [
  {
   "cell_type": "markdown",
   "id": "67df882d",
   "metadata": {},
   "source": [
    "Web Scraping Zara: Extracting Product Data using Python & Selenium"
   ]
  },
  {
   "attachments": {
    "Zara.jpg.webp": {
     "image/webp": "[encoded data removed]"
    }
   },
   "cell_type": "markdown",
   "id": "490898a9",
   "metadata": {},
   "source": [
    "![Zara.jpg.webp](attachment:Zara.jpg.webp)"
   ]
  },
  {
   "cell_type": "code",
   "execution_count": null,
   "id": "556a2de5",
   "metadata": {},
   "outputs": [],
   "source": [
    "# Importing the required libraries\n",
    "from selenium import webdriver\n",
    "from time import sleep\n",
    "from csv import writer\n",
    "from selenium.webdriver.common.by import By\n",
    "chrome_driver_path = r\"C:\\Users\\Dell\\Downloads\\chromedriver_win32\\chromedriver.exe\"\n",
    "driver = webdriver.Chrome(executable_path=chrome_driver_path)\n",
    "\n",
    "driver.get('https://www.zara.com/us/en/search?searchTerm=women%20jackets&section=WOMAN')\n",
    "driver.maximize_window()\n",
    "height = driver.execute_script(\"return document.body.scrollHeight\")\n",
    "whileTrue:\n",
    "   driver.execute_script(\"window.scrollTo(0,document.body.scrollHeight)\")\n",
    "   sleep(5)\n",
    "   new_height = driver.execute_script(\"return document.body.scrollHeight\")\n",
    "if height == new_height:\n",
    "break\n",
    "   height = new_height\n",
    "    product_links = []\n",
    "\n",
    "# Getting the product elements\n",
    "page_product_links = driver.find_elements(By.XPATH, '//div[@class=\"product-grid-product__figure\"]/a')\n",
    "\n",
    "# Getting the product links\n",
    "for product in page_product_links:\n",
    "   product_link = product.get_attribute('href')\n",
    "   product_links.append(product_link)\n",
    "    # Extracting product name\n",
    "defget_product_name():\n",
    "try:\n",
    "       product_name = driver.find_element(By.XPATH, '//h1[@class=\"product-detail-info__header-name\"]').text\n",
    "except Exception as e:\n",
    "       product_name = \"Not available\"\n",
    "return product_name\n",
    "\n",
    "# Extracting product mrp\n",
    "defget_mrp():\n",
    "try:\n",
    "       mrp = driver.find_element(By.XPATH, '//span[@class=\"money-amount__main\"]').text\n",
    "except Exception as e:\n",
    "       mrp = \"Not available\"\n",
    "return mrp\n",
    "\n",
    "# Extracting product color\n",
    "defget_color():\n",
    "try:\n",
    "       color = driver.find_element(By.XPATH, '//p[@class=\"product-color-extended-name product-detail-info__color\"]').text\n",
    "except Exception as e:\n",
    "       color = \"Not available\"\n",
    "return color\n",
    "\n",
    "# Extracting product description\n",
    "defget_desc():\n",
    "try:\n",
    "       desc = driver.find_element(By.XPATH, '//div[@class=\"expandable-text__inner-content\"]/p').text\n",
    "except Exception as e:\n",
    "       desc = \"Not available\"\n",
    "return desc\n",
    "with open('women_jacket_data.csv','w',newline='', encoding='utf-8') as f:\n",
    "   theWriter = writer(f)\n",
    "   heading = ['product_url', 'product_name', 'mrp', 'color', 'description']\n",
    "   theWriter.writerow(heading)\n",
    "for product in product_links:\n",
    "       driver.get(product)\n",
    "       sleep(5)\n",
    "       product_name = get_product_name()\n",
    "       sleep(3)\n",
    "       mrp = get_mrp()\n",
    "       sleep(3)\n",
    "       color = get_color()\n",
    "       sleep(3)\n",
    "       desc = get_desc()\n",
    "       sleep(3)\n",
    "       record = [product, product_name, mrp, color, desc]\n",
    "       theWriter.writerow(record)\n",
    "\n",
    "driver.quit()"
   ]
  }
 ],
 "metadata": {
  "kernelspec": {
   "display_name": "Python 3 (ipykernel)",
   "language": "python",
   "name": "python3"
  },
  "language_info": {
   "codemirror_mode": {
    "name": "ipython",
    "version": 3
   },
   "file_extension": ".py",
   "mimetype": "text/x-python",
   "name": "python",
   "nbconvert_exporter": "python",
   "pygments_lexer": "ipython3",
   "version": "3.9.13"
  }
 },
 "nbformat": 4,
 "nbformat_minor": 5
}
